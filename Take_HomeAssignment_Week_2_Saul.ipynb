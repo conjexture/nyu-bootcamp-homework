{
  "nbformat": 4,
  "nbformat_minor": 0,
  "metadata": {
    "colab": {
      "provenance": []
    },
    "kernelspec": {
      "name": "python3",
      "display_name": "Python 3"
    },
    "language_info": {
      "name": "python"
    }
  },
  "cells": [
    {
      "cell_type": "markdown",
      "source": [
        "**NUMPY HW**"
      ],
      "metadata": {
        "id": "metBW2FPCPlB"
      }
    },
    {
      "cell_type": "markdown",
      "source": [
        "Define two custom numpy arrays, say A and B. Generate two new numpy arrays by stacking A and B vertically and horizontally."
      ],
      "metadata": {
        "id": "J82CdeQt_MYN"
      }
    },
    {
      "cell_type": "code",
      "source": [
        "import numpy as np\n",
        "\n",
        "A = np.array([[1, 2, 3],\n",
        "              [4, 5, 6]])\n",
        "\n",
        "B = np.array([[7, 8, 9],\n",
        "              [10, 11, 12]])\n"
      ],
      "metadata": {
        "id": "4TihioxY_LAQ"
      },
      "execution_count": 9,
      "outputs": []
    },
    {
      "cell_type": "code",
      "source": [
        "VerticalStack = np.vstack((A, B))\n",
        "\n",
        "print(VerticalStack)"
      ],
      "metadata": {
        "colab": {
          "base_uri": "https://localhost:8080/"
        },
        "id": "VI6GxwESAi78",
        "outputId": "db03d1a2-f481-424b-cf67-d5336e457144"
      },
      "execution_count": 10,
      "outputs": [
        {
          "output_type": "stream",
          "name": "stdout",
          "text": [
            "[[ 1  2  3]\n",
            " [ 4  5  6]\n",
            " [ 7  8  9]\n",
            " [10 11 12]]\n"
          ]
        }
      ]
    },
    {
      "cell_type": "code",
      "source": [
        "HorizontalStack = np.hstack((A,B))\n",
        "\n",
        "print(HorizontalStack)"
      ],
      "metadata": {
        "colab": {
          "base_uri": "https://localhost:8080/"
        },
        "id": "yaZdrtA9AoQz",
        "outputId": "1ff5b6e5-78ef-4ea6-8a58-b18e9441c9ea"
      },
      "execution_count": 11,
      "outputs": [
        {
          "output_type": "stream",
          "name": "stdout",
          "text": [
            "[[ 1  2  3  7  8  9]\n",
            " [ 4  5  6 10 11 12]]\n"
          ]
        }
      ]
    },
    {
      "cell_type": "markdown",
      "source": [
        "Find common elements between A and B. [Hint: Intersection of two sets]\n"
      ],
      "metadata": {
        "id": "YK5ve3yiA2z9"
      }
    },
    {
      "cell_type": "code",
      "source": [
        "import numpy as np\n",
        "\n",
        "A = np.array([1, 2, 3, 4, 5])\n",
        "B = np.array([4, 5, 6, 7, 8])\n",
        "\n",
        "common_elements = np.intersect1d(A, B)\n",
        "print(common_elements)\n"
      ],
      "metadata": {
        "colab": {
          "base_uri": "https://localhost:8080/"
        },
        "id": "m3CgCrM7BCYO",
        "outputId": "8d76d59d-573f-4f6e-f5a3-990d820520de"
      },
      "execution_count": 14,
      "outputs": [
        {
          "output_type": "stream",
          "name": "stdout",
          "text": [
            "[4 5]\n"
          ]
        }
      ]
    },
    {
      "cell_type": "markdown",
      "source": [
        "Extract all numbers from A which are within a specific range. eg between 5 and 10. [Hint: np.where() might be useful or boolean masks]"
      ],
      "metadata": {
        "id": "V0sXJB-DBKqC"
      }
    },
    {
      "cell_type": "code",
      "source": [
        "import numpy as np\n",
        "\n",
        "A = np.array([2, 5, 6, 9, 10, 12, 3, 8])\n",
        "\n",
        "mask = (A >= 5) & (A <= 10)\n",
        "print(mask)\n"
      ],
      "metadata": {
        "colab": {
          "base_uri": "https://localhost:8080/"
        },
        "id": "BxhbiyKzBQf6",
        "outputId": "e22470db-5059-4bcb-f739-7fbc3941b379"
      },
      "execution_count": 16,
      "outputs": [
        {
          "output_type": "stream",
          "name": "stdout",
          "text": [
            "[False  True  True  True  True False False  True]\n"
          ]
        }
      ]
    },
    {
      "cell_type": "markdown",
      "source": [
        "Filter the rows of iris_2d that has petallength (3rd column) > 1.5 and sepallength (1st column) < 5.0"
      ],
      "metadata": {
        "id": "fVVmkj5kCEE8"
      }
    },
    {
      "cell_type": "code",
      "source": [
        "import numpy as np\n",
        "\n",
        "url = 'https://archive.ics.uci.edu/ml/machine-learning-databases/iris/iris.data'\n",
        "iris_2d = np.genfromtxt(url, delimiter=',', dtype='float', usecols=[0,1,2,3])\n",
        "\n",
        "# Filter rows where petal length > 1.5 and sepal length < 5.0\n",
        "filtered_rows = iris_2d[(iris_2d[:, 2] > 1.5) & (iris_2d[:, 0] < 5.0)]\n",
        "\n",
        "print(filtered_rows)\n"
      ],
      "metadata": {
        "colab": {
          "base_uri": "https://localhost:8080/"
        },
        "id": "P31NV8leCWCj",
        "outputId": "33a97700-03e6-4142-c352-97186f642c3f"
      },
      "execution_count": 17,
      "outputs": [
        {
          "output_type": "stream",
          "name": "stdout",
          "text": [
            "[[4.8 3.4 1.6 0.2]\n",
            " [4.8 3.4 1.9 0.2]\n",
            " [4.7 3.2 1.6 0.2]\n",
            " [4.8 3.1 1.6 0.2]\n",
            " [4.9 2.4 3.3 1. ]\n",
            " [4.9 2.5 4.5 1.7]]\n"
          ]
        }
      ]
    },
    {
      "cell_type": "markdown",
      "source": [
        "**HW Questions (Pandas):**"
      ],
      "metadata": {
        "id": "1o9QHN4RMZFF"
      }
    },
    {
      "cell_type": "markdown",
      "source": [
        "From df filter the 'Manufacturer', 'Model' and 'Type' for every 20th row starting from 1st (row 0)."
      ],
      "metadata": {
        "id": "0v3ygV40Pfwf"
      }
    },
    {
      "cell_type": "code",
      "source": [
        "import pandas as pd\n",
        "\n",
        "df = pd.read_csv('https://raw.githubusercontent.com/selva86/datasets/master/Cars93_miss.csv')\n",
        "\n",
        "# Filter 'Manufacturer', 'Model', and 'Type' for every 20th row\n",
        "filtered_df = df.loc[::20, ['Manufacturer', 'Model', 'Type']]\n",
        "\n",
        "print(filtered_df)\n"
      ],
      "metadata": {
        "colab": {
          "base_uri": "https://localhost:8080/"
        },
        "id": "VbJXBN_FORW4",
        "outputId": "dd06f3c7-42c6-4181-8754-a1744947f917"
      },
      "execution_count": 18,
      "outputs": [
        {
          "output_type": "stream",
          "name": "stdout",
          "text": [
            "   Manufacturer    Model     Type\n",
            "0         Acura  Integra    Small\n",
            "20     Chrysler  LeBaron  Compact\n",
            "40        Honda  Prelude   Sporty\n",
            "60      Mercury   Cougar  Midsize\n",
            "80       Subaru   Loyale    Small\n"
          ]
        }
      ]
    },
    {
      "cell_type": "markdown",
      "source": [
        "Replace missing values in Min.Price and Max.Price columns with their respective mean. (I dont understand)\n"
      ],
      "metadata": {
        "id": "-2WGDhOHQn18"
      }
    },
    {
      "cell_type": "code",
      "source": [
        "import pandas as pd\n",
        "\n",
        "df = pd.read_csv('https://raw.githubusercontent.com/selva86/datasets/master/Cars93_miss.csv')\n",
        "\n",
        "# Replace missing values in Min.Price and Max.Price with their respective means\n",
        "df['Min.Price'] = df['Min.Price'].fillna(df['Min.Price'].mean())\n",
        "df['Max.Price'] = df['Max.Price'].fillna(df['Max.Price'].mean())\n",
        "\n",
        "# Check that no NaN values remain\n",
        "print(df[['Min.Price', 'Max.Price']].isnull().sum())\n"
      ],
      "metadata": {
        "colab": {
          "base_uri": "https://localhost:8080/"
        },
        "id": "br_pnTw3QsTa",
        "outputId": "83f9ece5-2fbf-4058-ce5e-867c185880ee"
      },
      "execution_count": 23,
      "outputs": [
        {
          "output_type": "stream",
          "name": "stdout",
          "text": [
            "Min.Price    0\n",
            "Max.Price    0\n",
            "dtype: int64\n"
          ]
        }
      ]
    },
    {
      "cell_type": "markdown",
      "source": [
        "How to get the rows of a dataframe with row sum > 100?"
      ],
      "metadata": {
        "id": "9GbJZaIlTOBg"
      }
    },
    {
      "cell_type": "code",
      "source": [
        "import pandas as pd\n",
        "import numpy as np\n",
        "\n",
        "# Step 1: Create a random DataFrame (15 rows × 4 columns)\n",
        "df = pd.DataFrame(np.random.randint(10, 40, 60).reshape(-1, 4))\n",
        "print(\"Original DataFrame:\\n\", df.head(), \"\\n\")\n",
        "\n",
        "# Step 2: Compute row sums\n",
        "df['RowSum'] = df.sum(axis=1)\n",
        "\n",
        "# Step 3: Filter rows where row sum > 100\n",
        "filtered_df = df[df['RowSum'] > 100]\n",
        "\n",
        "print(\"Rows with sum > 100:\\n\", filtered_df)\n"
      ],
      "metadata": {
        "colab": {
          "base_uri": "https://localhost:8080/"
        },
        "id": "TvuKNAiBTSvb",
        "outputId": "098272ef-52fb-4c05-f64d-9c58833791ff"
      },
      "execution_count": 24,
      "outputs": [
        {
          "output_type": "stream",
          "name": "stdout",
          "text": [
            "Original DataFrame:\n",
            "     0   1   2   3\n",
            "0  16  35  31  23\n",
            "1  33  10  28  14\n",
            "2  21  30  38  10\n",
            "3  10  11  35  26\n",
            "4  14  28  25  27 \n",
            "\n",
            "Rows with sum > 100:\n",
            "      0   1   2   3  RowSum\n",
            "0   16  35  31  23     105\n",
            "14  29  21  28  26     104\n"
          ]
        }
      ]
    }
  ]
}