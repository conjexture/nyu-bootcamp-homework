{
  "nbformat": 4,
  "nbformat_minor": 0,
  "metadata": {
    "colab": {
      "provenance": []
    },
    "kernelspec": {
      "name": "python3",
      "display_name": "Python 3"
    },
    "language_info": {
      "name": "python"
    }
  },
  "cells": [
    {
      "cell_type": "markdown",
      "source": [],
      "metadata": {
        "id": "KcwHSInaEApO"
      }
    },
    {
      "cell_type": "markdown",
      "source": [
        "Homework Questions - Saul\n",
        "\n",
        "1. Write a program that takes a word as an input and print the number of vowels in the word.\n",
        "2. Iterate through the following list of animals and print each one in all caps.\n",
        "\n",
        "  animals=['tiger', 'elephant', 'monkey', 'zebra', 'panther']\n",
        "\n",
        "3. Write a program that iterates from 1 to 20, printing each number and whether it's odd or even.\n",
        "4. Write a program to check if a string is a palindrome or not.\n",
        "5. Write a function sum_of_integers(a, b) that takes two integers as input from the user and returns their sum."
      ],
      "metadata": {
        "id": "_V5ZRfCX3JP6"
      }
    },
    {
      "cell_type": "code",
      "source": [
        "#Write a program that takes a word as an input and print the number of vowels in the word.\n",
        "\n",
        "word = input(\"Enter Your Word: \")\n",
        "vowels = \"aeiouAEIOU\"\n",
        "count = 0\n",
        "\n",
        "for char in word:\n",
        "    if char in vowels:\n",
        "        count += 1\n",
        "\n",
        "print(\"Number of vowels in the word:\", count)"
      ],
      "metadata": {
        "colab": {
          "base_uri": "https://localhost:8080/"
        },
        "id": "NxZLahfUynrX",
        "outputId": "7ce5d6e4-4612-4c64-d12f-45576bf504f0"
      },
      "execution_count": 17,
      "outputs": [
        {
          "output_type": "stream",
          "name": "stdout",
          "text": [
            "Enter Your Word: Pineapple\n",
            "Number of vowels in the word: 4\n"
          ]
        }
      ]
    },
    {
      "cell_type": "markdown",
      "source": [
        "Iterate through the following list of animals and print each one in all caps.\n",
        "animals=['tiger', 'elephant', 'monkey', 'zebra', 'panther']"
      ],
      "metadata": {
        "id": "74RxsT9V3fkS"
      }
    },
    {
      "cell_type": "code",
      "source": [
        "#Iterate through the following list of animals and print each one in all caps.\n",
        "animals=['tiger', 'elephant', 'monkey', 'zebra', 'panther']\n",
        "\n",
        "for animal in animals:\n",
        "    print(animal.upper())\n"
      ],
      "metadata": {
        "colab": {
          "base_uri": "https://localhost:8080/"
        },
        "id": "gLZmLd6s3M9f",
        "outputId": "cf2b9b3a-c18a-4e10-9fc3-1da4b56a905b"
      },
      "execution_count": 19,
      "outputs": [
        {
          "output_type": "stream",
          "name": "stdout",
          "text": [
            "TIGER\n",
            "ELEPHANT\n",
            "MONKEY\n",
            "ZEBRA\n",
            "PANTHER\n"
          ]
        }
      ]
    },
    {
      "cell_type": "markdown",
      "source": [
        "Write a program that iterates from 1 to 20, printing each number and whether it's odd or even.\n"
      ],
      "metadata": {
        "id": "5D_lpx-j3sZZ"
      }
    },
    {
      "cell_type": "code",
      "source": [
        "#Write a program that iterates from 1 to 20, printing each number and whether it's odd or even.\n",
        "\n",
        "for number in range (1, 21):\n",
        "  if number % 2 == 0:\n",
        "    print(f\"{number} is Even\")\n",
        "  elif number % 2 != 0:\n",
        "    print(f\"{number} is Odd\")"
      ],
      "metadata": {
        "colab": {
          "base_uri": "https://localhost:8080/"
        },
        "id": "YbnUlx5_30Gv",
        "outputId": "81075dfd-44d6-4cce-fc2d-6653efb97f97"
      },
      "execution_count": 24,
      "outputs": [
        {
          "output_type": "stream",
          "name": "stdout",
          "text": [
            "1 is Odd\n",
            "2 is Even\n",
            "3 is Odd\n",
            "4 is Even\n",
            "5 is Odd\n",
            "6 is Even\n",
            "7 is Odd\n",
            "8 is Even\n",
            "9 is Odd\n",
            "10 is Even\n",
            "11 is Odd\n",
            "12 is Even\n",
            "13 is Odd\n",
            "14 is Even\n",
            "15 is Odd\n",
            "16 is Even\n",
            "17 is Odd\n",
            "18 is Even\n",
            "19 is Odd\n",
            "20 is Even\n"
          ]
        }
      ]
    },
    {
      "cell_type": "markdown",
      "source": [
        "Write a function sum_of_integers(a, b) that takes two integers as input from the user and returns their sum.\n",
        "\n"
      ],
      "metadata": {
        "id": "-HdBs20s6V-k"
      }
    },
    {
      "cell_type": "code",
      "source": [
        "#Write a function sum_of_integers(a, b) that takes two integers as input from the user and returns their sum.\n",
        "def sum_of_integers(a, b):\n",
        "  a = int(input(\"Enter The First Number: \"))\n",
        "  b = int(input(\"Enter The Second Number: \"))\n",
        "\n",
        "  return a + b\n",
        "\n",
        "print(\"The Sum of both numbers are:\", sum_of_integers(0, 0))\n"
      ],
      "metadata": {
        "colab": {
          "base_uri": "https://localhost:8080/"
        },
        "id": "H5pVmDhw6Z-e",
        "outputId": "342d78cd-e028-4c75-ff02-0c687908d9e0"
      },
      "execution_count": 54,
      "outputs": [
        {
          "output_type": "stream",
          "name": "stdout",
          "text": [
            "Enter The First Number: 34\n",
            "Enter The Second Number: 23423423\n",
            "The Sum of both numbers are: 23423457\n"
          ]
        }
      ]
    }
  ]
}